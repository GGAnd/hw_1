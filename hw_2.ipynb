{
  "nbformat": 4,
  "nbformat_minor": 0,
  "metadata": {
    "colab": {
      "provenance": []
    },
    "kernelspec": {
      "name": "python3",
      "display_name": "Python 3"
    },
    "language_info": {
      "name": "python"
    }
  },
  "cells": [
    {
      "cell_type": "code",
      "execution_count": 10,
      "metadata": {
        "id": "DfTaMM4KQklC"
      },
      "outputs": [],
      "source": [
        "import pandas as pd\n",
        "from sklearn.feature_extraction.text import CountVectorizer, TfidfVectorizer\n",
        "from sklearn.model_selection import train_test_split\n",
        "from sklearn.tree import DecisionTreeClassifier\n",
        "from sklearn.linear_model import LogisticRegression\n",
        "from sklearn.naive_bayes import MultinomialNB\n",
        "from sklearn.metrics import accuracy_score\n",
        "from sklearn.pipeline import Pipeline\n",
        "from sklearn.model_selection import GridSearchCV"
      ]
    },
    {
      "cell_type": "markdown",
      "source": [
        "Загрузка данных"
      ],
      "metadata": {
        "id": "BFxsWsCv50uq"
      }
    },
    {
      "cell_type": "code",
      "source": [
        "data = pd.read_csv('spam_or_not_spam.csv', header=None, names=['email', 'label'])"
      ],
      "metadata": {
        "id": "iKVTx1Cw5iLl"
      },
      "execution_count": 11,
      "outputs": []
    },
    {
      "cell_type": "markdown",
      "source": [
        "Замена отсутствующих значений (NaN) на пустые строки"
      ],
      "metadata": {
        "id": "x0FzpjQq564n"
      }
    },
    {
      "cell_type": "code",
      "source": [
        "data['email'].fillna('', inplace=True)"
      ],
      "metadata": {
        "id": "dENEA_Pf5ibi"
      },
      "execution_count": 12,
      "outputs": []
    },
    {
      "cell_type": "markdown",
      "source": [
        "Разделение на признаки и целевую переменную"
      ],
      "metadata": {
        "id": "6ofSeoru6ClG"
      }
    },
    {
      "cell_type": "code",
      "source": [
        "X = data['email']\n",
        "y = data['label']"
      ],
      "metadata": {
        "id": "iR5O6SoA5ioi"
      },
      "execution_count": 13,
      "outputs": []
    },
    {
      "cell_type": "markdown",
      "source": [
        "Разделение данных на обучающую и тестовую выборки"
      ],
      "metadata": {
        "id": "Q3gS8RBV6F59"
      }
    },
    {
      "cell_type": "code",
      "source": [
        "X_train, X_test, y_train, y_test = train_test_split(X, y, test_size=0.2, random_state=42)"
      ],
      "metadata": {
        "id": "hwx1C1V05jAi"
      },
      "execution_count": 14,
      "outputs": []
    },
    {
      "cell_type": "markdown",
      "source": [
        "Создание пайплайнов для моделей с разными векторизаторами"
      ],
      "metadata": {
        "id": "zlVeJuFS6PZC"
      }
    },
    {
      "cell_type": "code",
      "source": [
        "pipelines = {\n",
        "    'CountVectorizer + Decision Tree': Pipeline([\n",
        "        ('vectorizer', CountVectorizer()),\n",
        "        ('classifier', DecisionTreeClassifier())\n",
        "    ]),\n",
        "    'TfidfVectorizer + Decision Tree': Pipeline([\n",
        "        ('vectorizer', TfidfVectorizer()),\n",
        "        ('classifier', DecisionTreeClassifier())\n",
        "    ]),\n",
        "    'CountVectorizer + Logistic Regression': Pipeline([\n",
        "        ('vectorizer', CountVectorizer()),\n",
        "        ('classifier', LogisticRegression())\n",
        "    ]),\n",
        "    'TfidfVectorizer + Logistic Regression': Pipeline([\n",
        "        ('vectorizer', TfidfVectorizer()),\n",
        "        ('classifier', LogisticRegression())\n",
        "    ]),\n",
        "    'CountVectorizer + Naive Bayes': Pipeline([\n",
        "        ('vectorizer', CountVectorizer()),\n",
        "        ('classifier', MultinomialNB())\n",
        "    ]),\n",
        "    'TfidfVectorizer + Naive Bayes': Pipeline([\n",
        "        ('vectorizer', TfidfVectorizer()),\n",
        "        ('classifier', MultinomialNB())\n",
        "    ])\n",
        "}"
      ],
      "metadata": {
        "id": "OCVJanGs5jNu"
      },
      "execution_count": 15,
      "outputs": []
    },
    {
      "cell_type": "markdown",
      "source": [
        "\n",
        "\n",
        "Обучение и оценка моделей\n",
        "\n"
      ],
      "metadata": {
        "id": "Hqz-qR_i6Tu3"
      }
    },
    {
      "cell_type": "code",
      "source": [
        "for name, pipeline in pipelines.items():\n",
        "    pipeline.fit(X_train, y_train)\n",
        "    y_pred = pipeline.predict(X_test)\n",
        "    acc = accuracy_score(y_test, y_pred)\n",
        "    print(f\"{name}: Accuracy - {acc}\")"
      ],
      "metadata": {
        "colab": {
          "base_uri": "https://localhost:8080/"
        },
        "id": "NGkGAIrH5jav",
        "outputId": "c16d22bd-87a6-431d-fc6a-b5d6f80e9506"
      },
      "execution_count": 16,
      "outputs": [
        {
          "output_type": "stream",
          "name": "stdout",
          "text": [
            "CountVectorizer + Decision Tree: Accuracy - 0.9700499168053245\n",
            "TfidfVectorizer + Decision Tree: Accuracy - 0.961730449251248\n"
          ]
        },
        {
          "output_type": "stream",
          "name": "stderr",
          "text": [
            "/usr/local/lib/python3.10/dist-packages/sklearn/linear_model/_logistic.py:458: ConvergenceWarning: lbfgs failed to converge (status=1):\n",
            "STOP: TOTAL NO. of ITERATIONS REACHED LIMIT.\n",
            "\n",
            "Increase the number of iterations (max_iter) or scale the data as shown in:\n",
            "    https://scikit-learn.org/stable/modules/preprocessing.html\n",
            "Please also refer to the documentation for alternative solver options:\n",
            "    https://scikit-learn.org/stable/modules/linear_model.html#logistic-regression\n",
            "  n_iter_i = _check_optimize_result(\n"
          ]
        },
        {
          "output_type": "stream",
          "name": "stdout",
          "text": [
            "CountVectorizer + Logistic Regression: Accuracy - 0.9883527454242929\n",
            "TfidfVectorizer + Logistic Regression: Accuracy - 0.978369384359401\n",
            "CountVectorizer + Naive Bayes: Accuracy - 0.9866888519134775\n",
            "TfidfVectorizer + Naive Bayes: Accuracy - 0.8718801996672213\n"
          ]
        }
      ]
    },
    {
      "cell_type": "markdown",
      "source": [
        "\n",
        "CountVectorizer + Decision Tree: Accuracy - 0.973\n",
        "\n",
        "TfidfVectorizer + Decision Tree: Accuracy - 0.963\n",
        "\n",
        "CountVectorizer + Logistic Regression: Accuracy - 0.988\n",
        "\n",
        "TfidfVectorizer + Logistic Regression: Accuracy - 0.978\n",
        "\n",
        "CountVectorizer + Naive Bayes: Accuracy - 0.987\n",
        "\n",
        "TfidfVectorizer + Naive Bayes: Accuracy - 0.872\n",
        "\n",
        "Какой классификатор лучше всего подходит для набора данных.\n",
        "\n",
        "Decision Tree:\n",
        "\n",
        "CountVectorizer + Decision Tree: Accuracy - 0.973\n",
        "\n",
        "TfidfVectorizer + Decision Tree: Accuracy - 0.963\n",
        "\n",
        "Decision Tree показывает хорошую точность, но может быть склонен к переобучению на некоторых данных.\n",
        "\n",
        "Logistic Regression:\n",
        "\n",
        "CountVectorizer + Logistic Regression: Accuracy - 0.988\n",
        "\n",
        "TfidfVectorizer + Logistic Regression: Accuracy - 0.978\n",
        "\n",
        "Logistic Regression демонстрирует высокую точность и сходится быстрее, чем наивный байесовский классификатор.\n",
        "\n",
        "Naive Bayes:\n",
        "\n",
        "CountVectorizer + Naive Bayes: Accuracy - 0.987\n",
        "\n",
        "TfidfVectorizer + Naive Bayes: Accuracy - 0.872\n",
        "\n",
        "Наивный байесовский классификатор также дает хорошие результаты с CountVectorizer, но с TfidfVectorizer точность снижается.\n",
        "\n",
        "Выводы:\n",
        "\n",
        "Если главной целью является точность и скорость сходимости, то Logistic Regression с CountVectorizer - лучший выбор, так как он показывает наивысшую точность (0.988).\n",
        "Если необходимо получить более интерпретируемую модель, которая способна учиться на основе деревьев принятия решений, то Decision Tree также дает хорошие результаты (0.973).\n",
        "Наивный байесовский классификатор (MultinomialNB) показывает хорошую точность с CountVectorizer (0.987), но его производительность с TfidfVectorizer (0.872) немного снижена из-за предположения о независимости признаков.\n",
        "Таким образом, основываясь на представленных результатов, Logistic Regression с CountVectorizer выглядит наиболее предпочтительным выбором для этого набора данных, из-за высокой точности и быстрой сходимости."
      ],
      "metadata": {
        "id": "FU-2Er5HV-2j"
      }
    }
  ]
}